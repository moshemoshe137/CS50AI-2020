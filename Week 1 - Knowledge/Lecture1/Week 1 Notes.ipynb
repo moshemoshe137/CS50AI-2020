{
 "cells": [
  {
   "cell_type": "markdown",
   "metadata": {
    "collapsed": false,
    "pycharm": {
     "name": "#%% md\n"
    }
   },
   "source": [
    "# Knowledge\n",
    "\n",
    "---\n",
    "## Week 1 - CS50AI\n",
    "###### Moshe Rubin\n",
    "###### 4/28/2021\n",
    "https://cs50.harvard.edu/ai/2020/weeks/1/\n",
    "\n",
    "---\n",
    "## Knowledge\n",
    "A lot of intelligence is based on Knowledge. This is how a lot of human intelligence works.\n",
    "\n",
    "**Knowledge-based agents**: agents that reason by operating on internal representations of knowledge.\n",
    "\n",
    "How could knowledge work? Take the following facts, for example:\n",
    "- If it didn't rain, Harry visited Hagrid today.\n",
    "- Harry visited Hagrid or Dumbledore today, but not both.\n",
    "- Harry visited Dumbledore today.\n",
    "\n",
    "We can pretty reasonably draw the conclusion, Harry didn't visit Hagrid today.\n",
    "- **Harry did not visit Hagrid today.**\n",
    "\n",
    "But we can go further:\n",
    "- **It rained today.**\n",
    "\n",
    "How can we make our AI do this too? Formal logic:\n",
    "\n",
    "**Sentence**: an assertion about the world in a knowledge representation language.\n",
    "\n",
    "## Propositional Logic\n",
    "\n",
    "Symbols like\n",
    "- **¬**: Not\n",
    "- **∧**: And\n",
    "- **∨**: Or\n",
    "- **⇒**: Implication\n",
    "- **⇔**: Biconditional\n",
    "\n",
    "Buncha truth tables for all these... the only interesting one:\n",
    "\n",
    "| _P_   | _Q_   | _P ⇒ Q_\n",
    "| ---   | ---   | ---\n",
    "| True  | True  | True\n",
    "| True  | False | False\n",
    "| False | True  | True\n",
    "| False | False | True\n",
    "\n",
    "and\n",
    "\n",
    "| _P_   | _Q_   | _P ⇔ Q_\n",
    "| ---   | ---   | ---\n",
    "| True  | True  | True\n",
    "| True  | False | False\n",
    "| False | True  | False\n",
    "| False | False | True\n",
    "\n",
    "More terms:\n",
    "\n",
    "What is actually true in the world?\n",
    "\n",
    "**Model**: Assignment of a truth value to every possible model\n",
    "\n",
    "For example, if I have the events _P_: It is raining, and _Q_: It is a Tuesday, then a model might look like:\n",
    "```\n",
    "{P=True, Q=False}\n",
    "```\n",
    "$\\left\\{P=\\text{True}, Q=\\text{False}\\right\\}$\n",
    "\n",
    "Inline math is so $c^{\\frac{oo}{l}}$.\n",
    "\n",
    "**Knowledge base**: a set of sentences known by a knowledge-based agent.\n",
    "\n",
    "We'd like to be able to use our knowledge base to draw conclusions about the world.\n",
    "\n",
    "- $\\mathbf{\\alpha\\vDash\\beta}$: \"Alpha entails beta\"; Every model in which sentence $\\alpha$ is true, sentence $\\beta$ is also true.\n",
    "\n",
    "For example, $\\alpha=$ It is tuesday in April; and $\\beta=$ It is April.\n",
    "## Inference\n",
    "**Inference**: The process of deriving new sentences from old ones.\n",
    "\n",
    "For example,\n",
    "- $P$: It is a Tuesday\n",
    "- $Q$: It is raining\n",
    "- $R$ Harry will go for a run\n",
    "\n",
    "- **KB**: $\\left(P\\land\\neg Q\\right)\\implies R$\n",
    "\n",
    "In plain English, our Knowledge Base just says \"If it is tuesday, and it's not raining, then Harry will go on a run\".\n",
    "\n",
    "Also in our Knowledge base, we have:\n",
    "\n",
    "- **KB**: $\\left(P\\land\\neg Q\\right)\\implies R$, $P$, $\\neg Q$.\n",
    "\n",
    "We can easily see that $R$ is implied.\n",
    "\n",
    "- **Inference**: $R$.\n",
    "\n",
    "The question we will always want to answer is $$\\text{Does } KB\\vDash\\alpha\\text{?}$$\n",
    "\n",
    "### Model Checking\n",
    "- To determine if $KB\\vDash\\alpha$:\n",
    "    - Enumerate all possible models.\n",
    "    - If in every model where $KB$ is true, $\\alpha$ is true, then $KB\\vDash\\alpha$.\n",
    "    - Otherwise, $KB\\not\\vDash\\alpha$.\n",
    "\n",
    "Consider the same $P, Q, R$ as before, and the knowledge base\n",
    "\n",
    "$\\textbf{KB: }\\left(P\\land\\neg Q\\right)\\implies R$, $P$, $\\neg Q$\n",
    "\n",
    "$\\textbf{Query: } R$\n",
    "\n",
    "| P \t| Q \t| R \t| KB \t|\n",
    "|---\t|---\t|---\t|----\t|\n",
    "| F \t| F \t| F \t|    \t|\n",
    "| F \t| F \t| T \t|    \t|\n",
    "| F \t| T \t| F \t|    \t|\n",
    "| F \t| T \t| T \t|    \t|\n",
    "| T \t| F \t| F \t|    \t|\n",
    "| T \t| F \t| T \t|    \t|\n",
    "| T \t| T \t| F \t|    \t|\n",
    "| T \t| T \t| T \t|    \t|\n",
    "\n",
    "However, we know $P$. All the rows where $P$ is false can be discarded. We also know $\\neg Q$, so we can disregard any models where $Q$ is true. Finally, the implication only holds in the 6th row.\n",
    "\n",
    "| P \t| Q \t| R \t| KB \t|\n",
    "|---\t|---\t|---\t|----\t|\n",
    "| F \t| F \t| F \t| F  \t|\n",
    "| F \t| F \t| T \t| F  \t|\n",
    "| F \t| T \t| F \t| F  \t|\n",
    "| F \t| T \t| T \t| F  \t|\n",
    "| T \t| F \t| F \t| F  \t|\n",
    "| T \t| F \t| T \t| T  \t|\n",
    "| T \t| T \t| F \t| F  \t|\n",
    "| T \t| T \t| T \t| F  \t|\n",
    "\n",
    "There is only 1 possible world where out Knowledge Base is true.\n",
    "\n",
    "We've enumerated all the possible models and run thru them. Let's look through some actual code.\n"
   ]
  },
  {
   "cell_type": "markdown",
   "metadata": {
    "collapsed": false,
    "pycharm": {
     "name": "#%% md\n"
    }
   },
   "source": [
    "> See logic.py\n",
    "> See my_harry.py/harry.py"
   ]
  },
  {
   "cell_type": "markdown",
   "metadata": {
    "collapsed": false
   },
   "source": [
    "## Knowledge Engineering\n",
    "\n",
    "Is the process of taking information like this and using it on the computer.\n",
    "\n",
    "We'll look at the classic board game clue.\n",
    "\n",
    "![alt text](img.png)"
   ]
  },
  {
   "cell_type": "code",
   "execution_count": null,
   "metadata": {},
   "outputs": [],
   "source": [
    "from IPython.display import Image\n",
    "\n",
    "Image(filename='img.png')"
   ]
  },
  {
   "cell_type": "markdown",
   "metadata": {
    "collapsed": false,
    "pycharm": {
     "name": "#%% md\n"
    }
   },
   "source": [
    "A random person, room, and weapon are put in an envelope. Then, cards outside the envelope are slowly revealed.\n",
    "\n",
    "Our prop symbols will correspond to each person, place, and weapon.\n",
    "\n",
    "$$\\left(mustard \\lor plum\\lor scarlet\\right)$$\n",
    "\n",
    "$$\\left(ballroom\\lor kitchen\\lor library\\right)$$\n",
    "\n",
    "$$\\left(knife\\lor revolver\\lor wrench\\right)$$\n",
    "\n",
    "For example, if I hold the prof Plum card, then I know $\\neg plum$."
   ]
  },
  {
   "cell_type": "markdown",
   "metadata": {
    "collapsed": false
   },
   "source": [
    "> See clue.py"
   ]
  },
  {
   "cell_type": "markdown",
   "metadata": {
    "collapsed": false
   },
   "source": [
    "> See puzzle.py"
   ]
  },
  {
   "cell_type": "markdown",
   "metadata": {
    "collapsed": false
   },
   "source": [
    "Model checking gets slow as our data grows. It takes $2^n$ checks."
   ]
  },
  {
   "cell_type": "markdown",
   "metadata": {
    "collapsed": false
   },
   "source": [
    "## Inference Rules\n",
    "\n",
    "> If it is raining, then Harry is inside.\n",
    ">\n",
    "> It is raining\n",
    ">\n",
    "> ---\n",
    "> Harry is inside.\n",
    "\n",
    "This rule is called **Modus Ponens**:\n",
    "### Modus Ponens\n",
    "> $\\alpha\\implies\\beta$\n",
    ">\n",
    "> $\\alpha$\n",
    ">\n",
    "> ---\n",
    "> $\\beta$\n",
    ">\n",
    "This is very different from the model checking approach. The model checking approach was to check all available worlds. Modus Ponens only derives conclusions from what I directly know. Modus Ponens is almost always very obvious."
   ]
  },
  {
   "cell_type": "markdown",
   "metadata": {
    "collapsed": false
   },
   "source": [
    "### And Elimination\n",
    "> Harry is friends with Ron and Hermione\n",
    ">\n",
    "> ---\n",
    "> Harry is friends with Hermione\n",
    "\n",
    "Formally stated as:\n",
    "> $\\alpha\\land\\beta$\n",
    ">\n",
    "> ---\n",
    "> $\\alpha$"
   ]
  },
  {
   "cell_type": "markdown",
   "metadata": {
    "collapsed": false
   },
   "source": [
    "### Double Negation Elimination\n",
    "> It is not true that Harry did not pass the test\n",
    ">\n",
    "> ---\n",
    "> Harry passed the test\n",
    "\n",
    "More formally:\n",
    "> $\\neg\\left(\\neg\\alpha\\right)$\n",
    ">\n",
    "> ---\n",
    "> $\\alpha$\n",
    ">"
   ]
  },
  {
   "cell_type": "markdown",
   "metadata": {
    "collapsed": false
   },
   "source": [
    "### Implication Elimination\n",
    "> If it is raining, then Harry is inside.\n",
    ">\n",
    "> ---\n",
    "> Either it's not raining, or Harry is inside.\n",
    "\n",
    "More formally:\n",
    "\n",
    "> $\\alpha\\implies\\beta$\n",
    ">\n",
    "> ---\n",
    "> $\\neg\\alpha\\lor\\beta$"
   ]
  },
  {
   "cell_type": "markdown",
   "metadata": {
    "collapsed": false
   },
   "source": [
    "### Bi-conditional Elimination\n",
    "> It is raining if and only if Harry is inside\n",
    ">\n",
    "> ---\n",
    "> If it is raining, then Harry is inside, and if Harry is inside, then it is raining.\n",
    "\n",
    "More formally:\n",
    "\n",
    "> $\\alpha\\iff\\beta$\n",
    ">\n",
    "> ---\n",
    "> $\\left(\\alpha\\implies\\beta\\right)\\land\\left(\\beta\\implies\\alpha\\right)$"
   ]
  },
  {
   "cell_type": "markdown",
   "metadata": {
    "collapsed": false
   },
   "source": [
    "### De Morgan's Law\n",
    "\n",
    "> It is not true that both Harry and Ron passed the test\n",
    ">\n",
    "> ---\n",
    "> Harry did not pass the test or Ron did not pass the test.\n",
    "\n",
    "> $\\neg\\left(\\alpha\\land\\beta\\right)$\n",
    ">\n",
    "> ---\n",
    "> $\\neg\\alpha\\lor\\neg\\beta$\n",
    "\n",
    "\n",
    "> $\\neg\\left(\\alpha\\lor\\beta\\right)$\n",
    ">\n",
    "> ---\n",
    "> $\\neg\\alpha\\land\\neg\\beta$"
   ]
  },
  {
   "cell_type": "markdown",
   "metadata": {
    "collapsed": false
   },
   "source": [
    "A few more laws:\n",
    "### Distributive law\n",
    "> $\\left(\\alpha\\land\\left(\\beta\\lor\\gamma\\right)\\right)$\n",
    ">\n",
    "> ---\n",
    "> $\\left(\\alpha\\land\\beta\\right)\\lor\\left(\\alpha\\land\\gamma\\right)$\n",
    "\n",
    "\n",
    "> $\\left(\\alpha\\lor\\left(\\beta\\land\\gamma\\right)\\right)$\n",
    ">\n",
    "> ---\n",
    "> $\\left(\\alpha\\lor\\beta\\right)\\land\\left(\\alpha\\lor\\gamma\\right)$"
   ]
  },
  {
   "cell_type": "markdown",
   "metadata": {
    "collapsed": false
   },
   "source": [
    "How can we, given some knowledge base, test if something is true? Recall search problems:\n",
    "- Initial state\n",
    "- Actions\n",
    "- Transition models\n",
    "- Goal test\n",
    "- Path cost function.\n",
    "\n",
    "We can start to treat these sentences like states in a  search problem.\n",
    "\n",
    "**Theorem Proving**:\n",
    "- Initial state: starting knowledge base\n",
    "- Actions: inference rules\n",
    "- Transition models: new knowledge base after inference\n",
    "- Goal test: check statement we're trying to prove\n",
    "- Path cost function: number of steps in the proof.\n",
    "\n",
    "\n",
    "**Resolution**:\n",
    "\n",
    "> (Ron is in the Great Hall) $\\lor$ (Hermione is in the library)\n",
    ">\n",
    "> Ron is not in the Great Hall.\n",
    ">\n",
    "> ---\n",
    "> Hermione is in the library\n",
    "\n",
    "\n",
    "### Unit resolution rule:\n",
    "\n",
    "> $P\\lor Q$\n",
    ">\n",
    "> $\\neg P$\n",
    ">\n",
    "> ---\n",
    "> $Q$\n",
    "\n",
    "> $P\\lor Q_1\\lor Q_2\\lor\\cdots\\lor Q_n$\n",
    ">\n",
    "> $\\neg P$\n",
    ">\n",
    "> ---\n",
    "> $Q_1\\lor Q_2\\lor\\cdots\\lor Q_n$\n",
    "\n",
    "We can generalize even further!\n",
    "> (Ron is in the Great Hall) $\\lor$ (Hermione is in the library)\n",
    ">\n",
    "> (Ron is not in the Great Hall) $\\lor$ (Harry is sleeping).\n",
    ">\n",
    "> ---\n",
    "> (Hermione is in the library) $\\lor$ (Harry is sleeping)\n",
    "\n",
    "> $P\\lor Q$\n",
    ">\n",
    "> $\\neg P\\lor R$\n",
    ">\n",
    "> ---\n",
    "> $Q\\lor R$\n",
    "\n",
    "\n",
    "> $P\\lor Q_1\\lor Q_2\\lor\\cdots\\lor Q_n$\n",
    ">\n",
    "> $\\neg P\\lor R_1\\lor R_2\\lor\\cdots\\lor R_m$\n",
    ">\n",
    "> ---\n",
    "> $Q_1\\lor Q_2\\lor\\cdots\\lor Q_n\\lor R_1\\lor R_2\\lor\\cdots\\lor R_m$\n",
    "\n",
    "\n",
    "**Clause**: A disjunction of literals. E.g., $P\\lor Q\\lor R$.\n",
    "\n",
    "**Conjunctive normal form**: Logical sentence that is a conjunction of clauses. E.g. $\\left(A\\lor B\\lor C\\right)\\land\\left(D\\lor\\neg E\\right)\\land\\left(F\\lor G\\right)$.\n",
    "\n",
    "We can apply any logical statement to a Conjuctive Normal Form (CNF).\n",
    "\n",
    "We need to take all the symbols that are not part of CNF and turn them into something more like CNF:\n",
    "\n",
    "### Conversion to CNF\n",
    "- Eliminate biconditions:\n",
    "    - Turn $\\alpha\\iff\\beta$ into $\\left(\\alpha\\implies\\beta\\right)\\land\\left(\\beta\\implies\\alpha\\right)$.\n",
    "- Eliminate implications\n",
    "    - Turn $\\alpha\\implies\\beta$ to $\\neg\\alpha\\lor\\beta$\n",
    "- Move $neg$ inward using De Morgan's Laws.\n",
    "- Use distributive law to distribute $\\lor$ wherever possible.\n"
   ]
  },
  {
   "cell_type": "markdown",
   "metadata": {
    "collapsed": false
   },
   "source": [
    "For example, $\\left(P\\lor Q\\right)\\implies R$\n",
    "\n",
    "$\\neg\\left(P\\lor Q\\right)\\lor R$\n",
    "\n",
    "$\\left(\\neg P\\land\\neg Q\\right)\\lor R$\n",
    "\n",
    "$\\left(\\neg P\\lor R\\right)\\land\\left(\\neg Q\\lor R\\right)$\n",
    "\n",
    "\n",
    "Such clauses will be the input to our resolution functions later. This is called **Inference by resolution**.\n",
    "\n",
    "> $P\\lor Q$\n",
    ">\n",
    "> $\\neg P\\lor R$\n",
    ">\n",
    "> ---\n",
    "> $Q\\lor R$\n",
    "\n",
    "Key points worth noting:\n",
    "\n",
    "> $P\\lor Q\\lor S$\n",
    ">\n",
    "> $\\neg P\\lor R\\lor S$\n",
    ">\n",
    "> ---\n",
    "> $Q\\lor S\\lor R\\lor S = Q\\lor R\\lor S$\n",
    "\n",
    "One more rule:\n",
    "\n",
    "> $P$\n",
    ">\n",
    "> $\\neg P$\n",
    ">\n",
    "> ---\n",
    "> False"
   ]
  },
  {
   "cell_type": "markdown",
   "metadata": {
    "collapsed": false
   },
   "source": [
    "## Inference by Resolution\n",
    "\n",
    "- To determine if $\\textbf{KB}\\vDash\\alpha$\n",
    "    - Check if $\\textbf{KB}\\land\\neg\\alpha$ is a contradiction?\n",
    "        - If so, then $\\textbf{KB}\\vDash\\alpha$\n",
    "        - Otherwise, no entailment.\n",
    "\n",
    "But how do we actually do this?\n",
    "\n",
    "- To determine if $\\textbf{KB}\\vDash\\alpha$\n",
    "    - Convert $\\textbf{KB}\\land\\neg\\alpha$ to CNF.\n",
    "    - Keep checking to see if we can ues resolution to produce a new clause.\n",
    "        - If ever we produce the empty clause (equivalent to False), we have a contradiction, and $\\textbf{KB}\\vDash\\alpha$.\n",
    "        - Otherwise, if we can't add new clauses, no entailment."
   ]
  },
  {
   "cell_type": "markdown",
   "metadata": {
    "collapsed": false
   },
   "source": [
    "For example, does $\\left(A\\lor B\\right)\\land\\left(\\neg B\\lor C\\right)\\land\\left(\\neg C\\right)$ entail $A$?\n",
    "\n",
    "First, assume that $A$ is false:\n",
    "\n",
    "$\\left(A\\lor B\\right)\\land\\left(\\neg B\\lor C\\right)\\land\\left(\\neg C\\right)\\land(\\neg A)$\n",
    "\n",
    "This is in CNF. Let's pick clauses: $\\left(\\neg B\\lor C\\right)$ and $\\left(\\neg C\\right)$. These become $\\neg B$. Now I have:\n",
    "\n",
    "$\\left(A\\lor B\\right)\\land\\left(\\neg B\\lor C\\right)\\land\\left(\\neg C\\right)\\land(\\neg A)\\land(\\neg B)$\n",
    "\n",
    "Now use $\\left(A\\lor B\\right)$ and $\\neg B$. These make $A$.\n",
    "\n",
    "But wait, now I have $A$ and $\\neg A$! When we resolve these, we get the empty clause. We have a contradiction. So, the Knowledge Base does imply $A$."
   ]
  },
  {
   "cell_type": "markdown",
   "metadata": {
    "collapsed": false
   },
   "source": [
    "## First-Order Logic\n",
    "\n",
    "There are limits of Propositional Logic. We also have **First-Order Logic**, which is a little bit more powerful.\n",
    "\n",
    "![alt text](img_1.png)"
   ]
  },
  {
   "cell_type": "code",
   "execution_count": null,
   "metadata": {},
   "outputs": [],
   "source": [
    "Image('img_1.png')\n",
    "\n"
   ]
  },
  {
   "cell_type": "markdown",
   "metadata": {
    "collapsed": false
   },
   "source": [
    "A sentence might look like _Person(Minerva)_. Meanwhile, I can say _House(Gryffindor)_. And or, etc., all work here.\n",
    "\n",
    "$\\neg\\textit{House(Minerva)}$.\n",
    "\n",
    "_BelongsTo(Minerva, Gryffindor)_\n",
    "\n",
    "We also have 2 main quantifiers:\n",
    "\n",
    "**Universal Quantification**: Something is true for all x. For example:\n",
    "\n",
    "$\\forall x. \\textit{BelongsTo(x, Gryffindor)}\\implies\\neg\\textit{BelongsTo(x, Hufflepuff)}$\n",
    "\n",
    "I.e., anyone in Gryffindor is not if Hufflepuff.\n",
    "\n",
    "We also have **Existential Quantification**: it is true for at least 1 variable.\n",
    "\n",
    "$\\exists x. \\textit{House}(x) \\land \\textit{BelongsTo}(\\textit{Minerva}, x)$\n",
    "\n",
    "There is some house that Minerva belongs to.\n",
    "\n",
    "We can make more complicated expressions:\n",
    "\n",
    "$\\forall x. Person(x)\\implies\\left(\\exists y. House(y)\\land BelongsTo(x,y)\\right)$"
   ]
  }
 ],
 "metadata": {
  "kernelspec": {
   "display_name": "Python 3",
   "language": "python",
   "name": "python3"
  },
  "language_info": {
   "codemirror_mode": {
    "name": "ipython",
    "version": 2
   },
   "file_extension": ".py",
   "mimetype": "text/x-python",
   "name": "python",
   "nbconvert_exporter": "python",
   "pygments_lexer": "ipython2",
   "version": "2.7.6"
  }
 },
 "nbformat": 4,
 "nbformat_minor": 0
}

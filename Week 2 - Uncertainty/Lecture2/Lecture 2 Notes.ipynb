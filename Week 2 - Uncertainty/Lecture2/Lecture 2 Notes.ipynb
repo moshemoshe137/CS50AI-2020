{
 "cells": [
  {
   "cell_type": "markdown",
   "metadata": {
    "pycharm": {
     "name": "#%% md\n"
    }
   },
   "source": [
    "# Uncertainty\n",
    "---\n",
    "\n",
    "Very rarely do we know anything for sure. We always have some uncertainty. We'll look at probability."
   ]
  },
  {
   "cell_type": "markdown",
   "metadata": {
    "pycharm": {
     "name": "#%% md\n"
    }
   },
   "source": [
    "## Probability\n",
    "We'll look at \"possible worlds\", $\\omega$. When we roll a die, there are 6 possible worlds. Probability is $P(\\omega)$.\n",
    "- $0\\leq P(\\omega)\\leq1$\n",
    "- $\\sum\\limits_{\\omega\\in\\Omega} {P(\\omega)} = 1$\n"
   ]
  },
  {
   "cell_type": "markdown",
   "metadata": {
    "pycharm": {
     "name": "#%% md\n"
    }
   },
   "source": [
    "## Conditional Probability\n",
    "**Unconditional Probability**: Degree of belief in a proposition in the absence of any other evidence.\n",
    "\n",
    "**Conditional Probability**: Degree of belief in a proposition given that some knowledge has already been revealed. $P(a|b)$.\n",
    "\n",
    "$P(a|b) = \\frac{P(a\\land b)}{P(b)}$\n",
    "\n",
    "$P(a\\land b) = P(b)\\times P(a|b)$"
   ]
  },
  {
   "cell_type": "markdown",
   "metadata": {
    "pycharm": {
     "name": "#%% md\n"
    }
   },
   "source": [
    "## Random Variables\n",
    "\n",
    "**Random Variable**\n",
    "\n",
    "**Probability Distribution**:\n",
    "\n",
    "$P(\\textit{Flight = on time}) = 0.6$\n",
    "\n",
    "$P(\\textit{Flight = delayed}) = 0.3$\n",
    "\n",
    "$P(\\textit{Flight = cancelled}) = 0.1$\n",
    "\n",
    "is also represented as:\n",
    "\n",
    "$\\mathbf{P}(\\textit{Flight}) = \\left<0.6, 0.3, 0.1\\right>$\n",
    "\n",
    "**Independence**: $P(a\\land b) = P(a)\\times P(b)$"
   ]
  },
  {
   "cell_type": "markdown",
   "metadata": {},
   "source": [
    "## Bayes' Rule\n",
    "\n",
    "$P(b|a) = \\frac{P(b)\\times P(a|b)}{P(a)}$\n",
    "\n",
    "Given clouds in the morning, what's the prob of rain in the afternoon? Maybe I know that 80% of rainy afternoons start with cloudy mornings. I know that 40% of days have cloudy mornings, and 10% of days have rainy afternoons.\n",
    "\n",
    "$P(rain|clouds) = \\frac{P(clouds|rain)\\times P(rain)}{P(clouds)}$\n",
    "\n",
    "$= \\frac{0.8\\times0.1}{0.4} = 0.2$.\n",
    "\n",
    "Knowing $P(\\textit{cloudy mornings}|\\textit{rainy afternoons})$ means that we can calculate $P(\\textit{rainy afternoons}|\\textit{cloudy mornings})$.\n",
    "\n",
    "More generally, if we know $P(\\textit{visable effect}|\\textit{unknown cause})$ means that we can calculate $P(\\textit{unknown cause}|\\textit{visible effect})$."
   ]
  },
  {
   "cell_type": "markdown",
   "metadata": {},
   "source": [
    "## Joint Probability\n",
    "\n",
    "![img.png](img.png)"
   ]
  },
  {
   "cell_type": "code",
   "execution_count": null,
   "metadata": {},
   "outputs": [],
   "source": [
    "from IPython.display import Image\n",
    "\n",
    "Image(\"img.png\")"
   ]
  },
  {
   "cell_type": "markdown",
   "metadata": {},
   "source": [
    "What is $\\mathbf{P}(C|R)$? (The whole vector, $P(C|R)$ and $P(\\neg C|R)$).\n",
    "\n",
    "$=\\left<\\frac{P(C,R)}{P(R)}, \\frac{P(\\neg C,R)}{P(R)}\\right>$\n",
    "\n",
    "or sometimes:\n",
    "\n",
    "$\\alpha\\times\\left<P(C,R)\\right>$\n",
    "\n",
    "$=\\alpha\\left<0.08, 0.02\\right>$.\n",
    "\n",
    "We can find that $\\alpha = 10$ by just making sure things sum to $1$."
   ]
  },
  {
   "cell_type": "markdown",
   "metadata": {},
   "source": [
    "## Probability Rules:\n",
    "\n",
    "- $P(\\neg a) = 1 - P(a)$\n",
    "- **Inclusion Exclusion Formula**: $P(a\\lor b) = P(a) + P(b) - P(a\\land b)$\n",
    "- **Marginalization**: $P(a) = P(a, b) + P(a, \\neg b)$\n",
    "- **Marginalization**: $P(X = x_i) = \\sum\\limits_j {P(X = x_i, Y = y_j)}$\n",
    "- **Conditioning**: $P(a) = P(a|b)\\times P(b) + P(a|\\neg b)\\times P(\\neg b)$\n",
    "- **Conditioning**: $P(X= x_i) = \\sum\\limits_j {P(X = x_i | Y = y_j)\\times P(y_j)}$"
   ]
  },
  {
   "cell_type": "markdown",
   "metadata": {},
   "source": [
    "## Bayesian Networks\n",
    "\n",
    "**Bayesian network**: Data structure that represents the dependencies among random variables.\n",
    "\n",
    "- Directed graphs\n",
    "- Each node represents a random variable\n",
    "- An arrow from $X$ to $Y$ means $X$ is a parent of $Y$.\n",
    "- Each node $X$ has a probability distribution of $\\mathbf{P}(X|Parents(X))$\n",
    "\n",
    "Let's imagine I have an apt out of town, and I'm taking a train to get there. Getting there on time will depend on the train. But the train, for example, depends on rain, or maintenance, etc."
   ]
  },
  {
   "cell_type": "code",
   "execution_count": null,
   "metadata": {},
   "outputs": [],
   "source": [
    "Image(\"img_1.png\")"
   ]
  },
  {
   "cell_type": "markdown",
   "metadata": {},
   "source": [
    "Rain has no arrows pointing at it. It has no conditional probability. It might look like\n",
    "\n",
    "| None \t| Light \t| Heavy \t|\n",
    "|------\t|-------\t|-------\t|\n",
    "| 0.7  \t| 0.2   \t| 0.1   \t|\n",
    "\n",
    "Next we have Maintenance. The heavier the rain, the less likely we have maintenance.\n",
    "\n",
    "| $\\mathbf{R}$ \t| Yes   \t| No    \t|\n",
    "|--------------\t|-------\t|-------\t|\n",
    "| None         \t| $0.4$ \t| $0.6$ \t|\n",
    "| Light        \t| $0.2$ \t| $0.8$ \t|\n",
    "| Heavy        \t| $0.1$ \t| $0.9$ \t|\n",
    "\n",
    "Now let's look at Train-- on time or delayed. This is dependent on the TWO nodes pointing towards it.\n",
    "\n",
    "We can construct a larger probability distribution:"
   ]
  },
  {
   "cell_type": "code",
   "execution_count": null,
   "metadata": {},
   "outputs": [],
   "source": [
    "Image(\"img_2.png\")"
   ]
  },
  {
   "cell_type": "markdown",
   "metadata": {
    "pycharm": {
     "name": "#%% md\n"
    }
   },
   "source": [
    "Finally, we have the $appointment$- did we attend or miss? It is influenced by track $maintenance$ and $rain$, but we've already encoded this. We only want to encode direct relationships. Already knowing the train info, $maintenance$ or $rain$ won't really give me more info.\n",
    "\n",
    "| $\\mathbf{T}$ \t| attend \t| miss  \t|\n",
    "|--------------\t|--------\t|-------\t|\n",
    "| on time      \t| $0.9$  \t| $0.1$ \t|\n",
    "| delayed      \t| $0.6$  \t| $0.4$ \t|\n",
    "\n",
    "What if I want to know $P(light)$? This is a single value I already have access to.\n",
    "\n",
    "What about $P(light, no)$?. Calculate this as $P(light\\land no) = P(light)\\times p(no|light)$.\n",
    "\n",
    "$P(light, no, delayed) = P(light)\\times P(no|light)\\times P(delayed|light, no)$\n",
    "\n",
    "$P(light, no, delayed, miss) = p(light)\\times p(no|light) \\times (delayed| light, no)\\times p (miss|delayed)$\n",
    "\n",
    "How can we get new pieces of info? Can we draw new conclusions? Can we figure out the probabilities of variables taking on values?\n",
    "\n",
    "### Inference\n",
    "- Query $X$: Variable for which to compute distribution.\n",
    "- Evidence variables $\\mathbf{E}$: observed variables for event $e$.\n",
    "- Hidden variables $Y$: Non-evidence and non-query variables.\n",
    "\n",
    "- Goal is to calculate $\\mathbf{P}(X|e)$.\n",
    "\n",
    "We want to find $\\mathbf{P}(Appointment|light,no)$. The hidden variable is $train$. We know that conditional probability is proportional to the joint probability.\n",
    "\n",
    "$=\\alpha\\mathbf{P}(Appointment, light, no)$\n",
    "\n",
    "$=\\alpha\\left[\\mathbf{P}(Appointment, light, no, on time) \\\\+ \\mathbf{P}(Appointment, light, no, delayed)\\right]$\n",
    "\n",
    "### Inference by Enumeration\n",
    "\n",
    "$$P(X|e) = \\alpha P(X, e) = \\alpha\\sum\\limits_y {P(x, e, y)}$$,\n",
    "where\n",
    "\n",
    "- $X$ is the query variable\n",
    "- $e$ is the evidence\n",
    "- $y$ ranges over values of hidden variables\n",
    "- $\\alpha$ normalizes the result\n",
    "\n",
    "It's pretty annoying to do as a human, but we can program AI to do this. There are a lot of Python libraries for Bayesian networks.\n",
    "\n",
    "> See bayesnet/*.py\n",
    "\n",
    "This is one way to do it, but it's not efficient. There are ways to optimize, but still, as we gain variables, it's going to be a lot of work.\n",
    "\n",
    "We don't always care about exact inference. Sometimes we care about **Approximate Inference**"
   ]
  },
  {
   "cell_type": "markdown",
   "metadata": {
    "pycharm": {
     "name": "#%% md\n"
    }
   },
   "source": [
    "## Sampling\n",
    "\n",
    "We're going to take a sample of all variables inside the Bayesian network.\n",
    "\n",
    "| None \t| Light \t| Heavy \t|\n",
    "|------\t|-------\t|-------\t|\n",
    "| 0.7  \t| 0.2   \t| 0.1   \t|\n",
    "\n",
    "Using a random number generator, we'll randomly pick 1 of these 3 values. Maybe, for example, we pick $None$.\n",
    "\n",
    "Now that we've observed that $\\mathbf R$ is $None$, we'll randomly sample from the top row of this table:\n",
    "\n",
    "| $\\mathbf{R}$ \t| Yes   \t| No    \t|\n",
    "|--------------\t|-------\t|-------\t|\n",
    "| None         \t| $0.4$ \t| $0.6$ \t|\n",
    "| Light        \t| $0.2$ \t| $0.8$ \t|\n",
    "| Heavy        \t| $0.1$ \t| $0.9$ \t|\n",
    "\n",
    "Perhaps we observe $Yes$.\n",
    "\n",
    "For the $Train$ distribution, we'll randomly sample from the row where $\\mathbf R$ is $None$ is $\\mathbf M$ is $Yes$.\n",
    "\n",
    "Finally, we'll do the same to check if we attended the appointment.\n",
    "\n",
    "This becomes powerful when we repeat a lot.\n",
    "\n",
    "For $P(Train = \\textit{ on time})$, we could find the exact probability. But, we could just sample it and get close. We don't need to be right 100% of the time."
   ]
  },
  {
   "cell_type": "code",
   "execution_count": null,
   "metadata": {},
   "outputs": [],
   "source": [
    "Image(\"img_3.png\")"
   ]
  },
  {
   "cell_type": "markdown",
   "metadata": {
    "pycharm": {
     "name": "#%% md\n"
    }
   },
   "source": [
    "In $6/8$ samples, we are on time.\n",
    "\n",
    "We calculated the unconditional probability $P(Train = \\textit{ on time})$. But sometimes, we'll have conditions.\n",
    "\n",
    "$P(Rain = \\textit{light} | Train = \\textit{on time})$\n",
    "\n",
    "What we might do for this is again look at all our samples. But, now we know the train is on time. The two cases where the train is delayed are put in the trash and excuded or ignored. Looking at the same data, we can estimate $2/6$ for this probability.\n",
    "\n",
    "> See bayesnet/sample.py\n",
    "\n",
    "The issue shows up when you're looking at rare events. You're going to be rejecting a lot of samples. Especially if my evidence is very rare.\n",
    "\n",
    "### Likelihood Weighting\n",
    "\n",
    "- Start by fixing the values for evidence variables.\n",
    "- Sample the non-evidence variables using conditional probabilities in the Bayesian Network.\n",
    "- Weight each sample by its **likelihood**: the probability of all of the evidence.\n",
    "\n",
    "$P(Rain = \\textit{light} | Train = \\textit{on time})$\n",
    "\n",
    "Start by fixing the evidence variable. Already have in the sample $\\mathbf{T} = \\textit{on time}$.\n",
    "\n",
    "Then, we'll randomly sample Rain. We'll randomly sample Maintenance. When we get to Train, we'll just skip over it. We'll move on to Appointment.\n",
    "\n",
    "Now, how do we weight it? What's the prob of train on time given the other variables? Our train table tells us $0.6$. This sample would have a weight of $0.6$."
   ]
  },
  {
   "cell_type": "markdown",
   "metadata": {},
   "source": [
    "## Markov Models\n",
    "\n",
    "Often times, our variables change over time. Weather is a great example.\n",
    "\n",
    "Now, we'll have another random varibale for every single time step:\n",
    "\n",
    "$X_t = $ the weather on time $t$.\n",
    "\n",
    "But, there's an incredible amount of data that can go in to this over a long time.\n",
    "\n",
    "So, we'll  make some simplifying assumptions. If they're close to accurate, it should be good.\n",
    "\n",
    "**Markov Assumption**: The assumption that the current state depends on only a finite fixed number of previous states.\n",
    "\n",
    "The current day's weather depends just on the last $n$ days' weather.\n",
    "\n",
    "**Markov chain**: A sequence of random variables which follow the Markov assumption."
   ]
  },
  {
   "cell_type": "code",
   "execution_count": null,
   "metadata": {},
   "outputs": [],
   "source": [
    "Image(\"img_4.png\")"
   ]
  },
  {
   "cell_type": "markdown",
   "metadata": {
    "pycharm": {
     "name": "#%% md\n"
    }
   },
   "source": [
    "If it's sunny today, then it's more likely to be sunny tomorrow.\n",
    "\n",
    "This image, this matrix, is called the **Transition Model**. We could do a similar sampling procedure.\n",
    "\n",
    "We might form the following Markov chain:"
   ]
  },
  {
   "cell_type": "code",
   "execution_count": null,
   "metadata": {},
   "outputs": [],
   "source": [
    "Image(\"img_5.png\")"
   ]
  },
  {
   "cell_type": "markdown",
   "metadata": {
    "pycharm": {
     "name": "#%% md\n"
    }
   },
   "source": [
    "We can answer many questions with this model.\n",
    "\n",
    "> chain/*.py\n",
    "\n",
    "Markov models depend on knowing each individual state. We often don't know the exact states, though.\n",
    "\n",
    "Often, we have sensors or something, and we don't know 100% sure what's going on.\n",
    "\n",
    "### Sensor Models\n",
    "\n",
    "Given these audio waves, can you tell what the words spoken actually are?D"
   ]
  },
  {
   "cell_type": "code",
   "execution_count": null,
   "metadata": {},
   "outputs": [],
   "source": [
    "Image(\"img_6.png\")"
   ]
  },
  {
   "cell_type": "markdown",
   "metadata": {
    "pycharm": {
     "name": "#%% md\n"
    }
   },
   "source": [
    "For us, hidden state is the weather, and our observation is whether or not employees are bringing umbrellas or not. Using that information, we want to predict if it's sunny or rainy."
   ]
  },
  {
   "cell_type": "markdown",
   "metadata": {},
   "source": [
    "## Hidden Markov Model\n",
    "\n",
    "**Hidden Markov Model**: A Markov models for a system with hidden states that generates some observed event."
   ]
  },
  {
   "cell_type": "code",
   "execution_count": null,
   "metadata": {},
   "outputs": [],
   "source": [
    "Image(\"img_7.png\")"
   ]
  },
  {
   "cell_type": "markdown",
   "metadata": {
    "pycharm": {
     "name": "#%% md\n"
    }
   },
   "source": [
    "Often called the **Sensor Model**. Or emission model.\n",
    "\n",
    "**Sensor Markov assumption**: The assumption that the evidence variable depends only on the corresponding state."
   ]
  },
  {
   "cell_type": "code",
   "execution_count": null,
   "metadata": {},
   "outputs": [],
   "source": [
    "Image(\"img_8.png\")"
   ]
  },
  {
   "cell_type": "markdown",
   "metadata": {
    "pycharm": {
     "name": "#%% md\n"
    }
   },
   "source": [
    "Instead of just hacking 1 chain, we have 2. Each of these states produces an emission- a result that it saw. ($E_i$ stands for emission).\n",
    "\n",
    "Common tasks we'll see:"
   ]
  },
  {
   "cell_type": "code",
   "execution_count": null,
   "metadata": {},
   "outputs": [],
   "source": [
    "Image(\"img_9.png\")"
   ]
  },
  {
   "cell_type": "markdown",
   "metadata": {
    "pycharm": {
     "name": "#%% md\n"
    }
   },
   "source": [
    "We're usually interested in most likely explanation.\n",
    "\n",
    "> See hmm/*.py"
   ]
  }
 ],
 "metadata": {
  "kernelspec": {
   "display_name": "Python 3",
   "language": "python",
   "name": "python3"
  },
  "language_info": {
   "codemirror_mode": {
    "name": "ipython",
    "version": 3
   },
   "file_extension": ".py",
   "mimetype": "text/x-python",
   "name": "python",
   "nbconvert_exporter": "python",
   "pygments_lexer": "ipython3",
   "version": "3.8.3"
  }
 },
 "nbformat": 4,
 "nbformat_minor": 1
}
